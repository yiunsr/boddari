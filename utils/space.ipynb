{
 "cells": [
  {
   "cell_type": "code",
   "execution_count": 1,
   "metadata": {},
   "outputs": [],
   "source": [
    "from konlpy.tag import Mecab\n",
    "mecab = Mecab(dicpath=r\"C:\\mecab\\mecab-ko-dic\")\n",
    "\n",
    "def is_next_spacing(pos, next_pos, word, next_word):\n",
    "    next_josa = False\n",
    "    next_comma = False\n",
    "    next_vcp_or_vcn = False\n",
    "    if next_pos and next_pos.startswith(\"J\"):\n",
    "        next_josa = True\n",
    "    if next_word and next_word == \",\":\n",
    "        next_comma = True\n",
    "    if next_pos and next_pos in [\"VCP\", \"VCN\"]:\n",
    "        next_vcp_or_vcn = True\n",
    "\n",
    "    # 맨 마지막 조사\n",
    "    if pos.startswith(\"J\") and next_josa is False and next_comma is False:\n",
    "        return True\n",
    "    # 의존 명사, 단위를 나타내는 의존명사\n",
    "    elif pos in [\"NNB\", \"NNBC\"] \\\n",
    "            and next_josa is False and next_vcp_or_vcn is False:\n",
    "        return True\n",
    "    # 관형형 전성 어미,  ~하'는'\n",
    "    elif pos == \"ETM\":\n",
    "        return True\n",
    "    # 연결 어미\n",
    "    elif pos.endswith(\"EC\") and next_comma is False:\n",
    "        return True\n",
    "    # 마침표, 물음표, 느낌표\n",
    "    elif pos == \"SF\":\n",
    "        return True\n",
    "    # 콤마\n",
    "    elif pos == \"SC\" and word == \",\":\n",
    "        return True\n",
    "    # 일반부사, 접속부사\n",
    "    elif pos in [\"MAG\", \"MAJ\"]:\n",
    "        return True\n",
    "    # 관형사형 접속어미 (XSV+ETM)도 포함하기 위해\n",
    "    elif pos.endswith(\"ETM\"):\n",
    "        return True\n",
    "    # 관형사\n",
    "    elif pos == \"MM\":\n",
    "        return True\n",
    "\n",
    "    # next_pos 에 의해 결정되는 경우\n",
    "    # MAJ\n",
    "    elif next_pos == \"MAJ\":\n",
    "        return True\n",
    "    # [눈 씻고] 찾다.\n",
    "    elif pos in [\"NNG\"] and next_pos == \"VV\":\n",
    "        return True\n",
    "    return False\n",
    "\n",
    "def re_spacing(sen):\n",
    "    pos_tags = mecab.pos(sen)\n",
    "    new_sen = \"\"\n",
    "    for idx, pos_tag in enumerate(pos_tags):\n",
    "        next_word = None\n",
    "        next_pos = None\n",
    "        if idx + 1 < len(pos_tags):\n",
    "            next_pos_tag = pos_tags[idx+1]\n",
    "            next_word = next_pos_tag[0]\n",
    "            next_pos = next_pos_tag[1]\n",
    "        word = pos_tag[0]\n",
    "        pos = pos_tag[1]\n",
    "        if is_next_spacing(pos, next_pos, word, next_word):\n",
    "            new_sen += word + \" \"\n",
    "        else:\n",
    "            new_sen += word\n",
    "    return new_sen"
   ]
  },
  {
   "cell_type": "code",
   "execution_count": 2,
   "metadata": {},
   "outputs": [
    {
     "data": {
      "application/vnd.jupyter.widget-view+json": {
       "model_id": "6c290e2300ec447caf0524de06b30d47",
       "version_major": 2,
       "version_minor": 0
      },
      "text/plain": [
       "VBox(children=(Textarea(value='', layout=Layout(height='100%')),), layout=Layout(height='300px'))"
      ]
     },
     "metadata": {},
     "output_type": "display_data"
    }
   ],
   "source": [
    "from ipywidgets import Textarea, VBox\n",
    "ta = Textarea(\n",
    "    value='',\n",
    "    layout={'height': '100%'}\n",
    ")\n",
    "box = VBox([ta], layout={'height': '300px'})\n",
    "box\n",
    "\n"
   ]
  },
  {
   "cell_type": "code",
   "execution_count": 6,
   "metadata": {},
   "outputs": [
    {
     "data": {
      "application/vnd.jupyter.widget-view+json": {
       "model_id": "20245cd455854c03b70f84e1b92c60e1",
       "version_major": 2,
       "version_minor": 0
      },
      "text/plain": [
       "VBox(children=(Textarea(value='전문적인 교수법에 관한 지식은 이론과 실천사이의 대화위에 구축되며, 쌓여 가는 경험의 레퍼토리에 대 한 개인적·집단적성찰을 통해 발전된다. 그…"
      ]
     },
     "metadata": {},
     "output_type": "display_data"
    }
   ],
   "source": [
    "value = re_spacing(ta.value)\n",
    "ta2 = Textarea(\n",
    "    value=value,\n",
    "    layout={'height': '100%'}\n",
    ")\n",
    "box2 = VBox([ta2], layout={'height': '300px'})\n",
    "box2"
   ]
  }
 ],
 "metadata": {
  "kernelspec": {
   "display_name": "deep",
   "language": "python",
   "name": "python3"
  },
  "language_info": {
   "codemirror_mode": {
    "name": "ipython",
    "version": 3
   },
   "file_extension": ".py",
   "mimetype": "text/x-python",
   "name": "python",
   "nbconvert_exporter": "python",
   "pygments_lexer": "ipython3",
   "version": "3.10.7"
  },
  "orig_nbformat": 4
 },
 "nbformat": 4,
 "nbformat_minor": 2
}
